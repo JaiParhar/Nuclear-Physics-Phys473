{
 "cells": [
  {
   "cell_type": "code",
   "execution_count": 21,
   "id": "7d0ee793-8d22-42c9-b807-a8217b35f5e7",
   "metadata": {},
   "outputs": [
    {
     "name": "stdout",
     "output_type": "stream",
     "text": [
      "The half-life of Radon-222 via alpha decay is 3.802730706634429 days.\n"
     ]
    }
   ],
   "source": [
    "import numpy as np\n",
    "from math import *\n",
    "\n",
    "def alpha_decay_half_life(m_parent, A_parent, Z_parent, m_daughter, Mass_in_MeV=False, r_0=1.5):\n",
    "    '''Returns the half-life of the decay in seconds.\n",
    "        Params: \n",
    "        m_parent = Mass of the parent nucleus\n",
    "        A_parent = Atomic mass number of the parent nucleus (dimensionless)\n",
    "        Z_parent = Number of protons of the parent nucleus (dimensionless)\n",
    "        m_daughter = Mass of the daughter nucleus\n",
    "        Mass_in_MeV = Set to True to input masses in MeV, by default is false, and parameter masses should be in amu\n",
    "        r0 = Nuclear radius constant in femtometers, set to 1.5 fm by default. May need to be changed, but 1.5 fm tends\n",
    "             to give the right order of magnitude.'''\n",
    "\n",
    "    amu = 931.481 #MeV/c^2\n",
    "\n",
    "    Z_alpha = 2\n",
    "    m_alpha = 4.00260325413 * amu #amu\n",
    "    \n",
    "    # If masses are not inputted in MeV/c^2, convert to MeV/c^2\n",
    "    if not Mass_in_MeV:\n",
    "        m_parent = m_parent * amu #Mev/c^2\n",
    "        m_daughter = m_daughter * amu #MeV/c^2\n",
    "    \n",
    "    c = 299792458 * (10**15) #fm/s\n",
    "\n",
    "    hbarc = 197.3269804 # Mev * fm\n",
    "    FSC_hbarc_constant = (1.0/137.0) * hbarc #MeV * fm - fine structure constant * hbar * c \n",
    "\n",
    "    Z_daughter = Z_parent - Z_alpha\n",
    "    \n",
    "    r_parent = r_0 * (A_parent**(1.0/3.0)) #fm\n",
    "    \n",
    "    m_reduced = (m_alpha * m_daughter)/(m_alpha + m_daughter) #MeV/c^2\n",
    "    \n",
    "    Q = m_parent - m_daughter - m_alpha #MeV, c^2 is implied but = 1 here\n",
    "    v_alpha = sqrt((2*Q)/m_reduced) #c = sqrt(MeV/(MeV/c^2))\n",
    "    \n",
    "    b = (FSC_hbarc_constant * Z_daughter * Z_alpha) / Q #fm - Classical turning point b\n",
    "    P_0 = (v_alpha/(2*r_parent)) * c #1/s\n",
    "    gamma = (2*b / hbarc) * sqrt(2 * m_reduced * Q) * (acos( sqrt(r_parent/b) ) - sqrt((r_parent/b) * (1-r_parent/b)))\n",
    "    lambda_ = P_0 * exp(-gamma) #1/s\n",
    "    t_half_life = log(2)/lambda_ #s\n",
    "    \n",
    "    return t_half_life\n",
    "\n",
    "m_Rn = 222.017577269 #amu\n",
    "A_Rn = 222\n",
    "Z_Rn = 86\n",
    "\n",
    "m_Po = 218.008972569 #amu\n",
    "\n",
    "print(\"The half-life of Radon-222 via alpha decay is\", alpha_decay_half_life(m_Rn, A_Rn, Z_Rn, m_Po, r_0=1.488)/(60*60*24), \"days.\")"
   ]
  }
 ],
 "metadata": {
  "kernelspec": {
   "display_name": "Python 3 (ipykernel)",
   "language": "python",
   "name": "python3"
  },
  "language_info": {
   "codemirror_mode": {
    "name": "ipython",
    "version": 3
   },
   "file_extension": ".py",
   "mimetype": "text/x-python",
   "name": "python",
   "nbconvert_exporter": "python",
   "pygments_lexer": "ipython3",
   "version": "3.10.4"
  }
 },
 "nbformat": 4,
 "nbformat_minor": 5
}
